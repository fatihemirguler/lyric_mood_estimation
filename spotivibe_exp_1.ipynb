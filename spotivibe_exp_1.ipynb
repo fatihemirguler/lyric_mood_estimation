{
 "cells": [
  {
   "cell_type": "code",
   "execution_count": 2,
   "id": "91e07922",
   "metadata": {},
   "outputs": [
    {
     "name": "stdout",
     "output_type": "stream",
     "text": [
      "GPU Available:  True\n"
     ]
    },
    {
     "name": "stderr",
     "output_type": "stream",
     "text": [
      "C:\\Users\\melih\\AppData\\Local\\Programs\\Python\\Python310\\lib\\site-packages\\tqdm\\auto.py:21: TqdmWarning: IProgress not found. Please update jupyter and ipywidgets. See https://ipywidgets.readthedocs.io/en/stable/user_install.html\n",
      "  from .autonotebook import tqdm as notebook_tqdm\n",
      "[nltk_data] Downloading package punkt to\n",
      "[nltk_data]     C:\\Users\\melih\\AppData\\Roaming\\nltk_data...\n",
      "[nltk_data]   Package punkt is already up-to-date!\n",
      "[nltk_data] Downloading package stopwords to\n",
      "[nltk_data]     C:\\Users\\melih\\AppData\\Roaming\\nltk_data...\n",
      "[nltk_data]   Package stopwords is already up-to-date!\n",
      "[nltk_data] Downloading package wordnet to\n",
      "[nltk_data]     C:\\Users\\melih\\AppData\\Roaming\\nltk_data...\n",
      "[nltk_data]   Package wordnet is already up-to-date!\n"
     ]
    },
    {
     "data": {
      "text/plain": [
       "True"
      ]
     },
     "execution_count": 2,
     "metadata": {},
     "output_type": "execute_result"
    }
   ],
   "source": [
    "import torch\n",
    "import sys\n",
    "print(\"GPU Available: \", torch.cuda.is_available())\n",
    "import contractions\n",
    "from datasets import load_dataset\n",
    "import pandas as pd\n",
    "import numpy as np\n",
    "import string\n",
    "import nltk\n",
    "from nltk.corpus import stopwords\n",
    "from nltk.tokenize import word_tokenize\n",
    "from nltk.stem import WordNetLemmatizer\n",
    "import re\n",
    "from sklearn.feature_extraction.text import TfidfVectorizer\n",
    "from sklearn.preprocessing import LabelEncoder\n",
    "from sklearn.svm import SVC\n",
    "from sklearn.metrics import classification_report, accuracy_score\n",
    "from transformers import BertTokenizer,BertModel, BertForSequenceClassification, Trainer, TrainingArguments\n",
    "from datasets import load_dataset, Dataset\n",
    "from transformers import DistilBertTokenizer, DistilBertForSequenceClassification, Trainer, TrainingArguments\n",
    "from sklearn.metrics import accuracy_score, precision_recall_fscore_support\n",
    "from sklearn.model_selection import train_test_split\n",
    "from sklearn.model_selection import GridSearchCV\n",
    "# Download necessary NLTK data\n",
    "nltk.download('punkt')\n",
    "nltk.download('stopwords')\n",
    "nltk.download('wordnet')"
   ]
  },
  {
   "cell_type": "code",
   "execution_count": 4,
   "id": "d745794b",
   "metadata": {},
   "outputs": [],
   "source": [
    "data=pd.read_csv('D:/Python_Projects/spotivibe_exp/data_with_cleaned_lyrics.csv')"
   ]
  },
  {
   "cell_type": "code",
   "execution_count": null,
   "id": "b2d59222",
   "metadata": {},
   "outputs": [],
   "source": [
    "# # Split the dataset\n",
    "# X_train, X_test, y_train, y_test = train_test_split(data['cleaned_lyrics'], data['mood_cats'], test_size=0.2, random_state=42)\n",
    "\n",
    "# # Experiment 2: Bigrams\n",
    "# svc_model = SVC(kernel='linear')\n",
    "# bigram_vectorizer = TfidfVectorizer(ngram_range=(1, 2), max_features=5000)\n",
    "# X_train_bigram = bigram_vectorizer.fit_transform(X_train)\n",
    "# X_test_bigram = bigram_vectorizer.transform(X_test)\n",
    "\n",
    "# svc_model.fit(X_train_bigram, y_train)\n",
    "# y_pred_bigram = svc_model.predict(X_test_bigram)\n",
    "# print(\"Bigram Classification Report:\")\n",
    "# print(classification_report(y_test, y_pred_bigram))\n",
    "\n",
    "# # Bigram Classification Report:\n",
    "# #               precision    recall  f1-score   support\n",
    "\n",
    "# #            0       0.47      0.53      0.50       770\n",
    "# #            1       0.50      0.44      0.46       819\n",
    "# #            2       0.62      0.61      0.61       671\n",
    "# #            3       0.80      0.80      0.80       687\n",
    "\n",
    "# #     accuracy                           0.59      2947\n",
    "# #    macro avg       0.59      0.59      0.59      2947\n",
    "# # weighted avg       0.59      0.59      0.58      2947\n",
    "\n"
   ]
  },
  {
   "cell_type": "code",
   "execution_count": null,
   "id": "fc9a8bb1",
   "metadata": {},
   "outputs": [],
   "source": [
    "# # Define the parameter grid\n",
    "# param_grid = {\n",
    "#     'C': [0.1, 1, 10, 100],\n",
    "#     'kernel': ['linear', 'rbf'],p\n",
    "# }\n",
    "\n",
    "# # Use GridSearchCV to search for the best parameters\n",
    "# grid_search = GridSearchCV(SVC(), param_grid, cv=3)\n",
    "# grid_search.fit(X_train_bigram, y_train)\n",
    "\n",
    "# # Evaluate the best model\n",
    "# best_svc = grid_search.best_estimator_\n",
    "# y_pred_best_svc = best_svc.predict(X_test_bigram)\n",
    "# print(classification_report(y_test, y_pred_best_svc))\n",
    "# #OUTPUT:\n",
    "# #               precision    recall  f1-score   support\n",
    "\n",
    "# #            0       0.54      0.60      0.57       770\n",
    "# #            1       0.58      0.56      0.57       819\n",
    "# #            2       0.94      0.90      0.92       671\n",
    "# #            3       0.97      0.93      0.95       687\n",
    "\n",
    "# #     accuracy                           0.73      2947\n",
    "# #    macro avg       0.76      0.75      0.75      2947\n",
    "# # weighted avg       0.74      0.73      0.74      2947\n",
    "\n",
    "\n",
    "# # Get the best parameters from the grid search\n",
    "# best_params = grid_search.best_params_\n",
    "\n",
    "# # Print the best parameters\n",
    "# print(f\"Best parameters: {best_params}\")\n",
    "\n",
    "#  Best parameters: {'C': 10, 'kernel': 'rbf'}"
   ]
  },
  {
   "cell_type": "code",
   "execution_count": null,
   "id": "f244e65b",
   "metadata": {},
   "outputs": [],
   "source": [
    "# # Create a DataFrame to store the results\n",
    "# results_df = pd.DataFrame({\n",
    "#     'True Label': y_test,\n",
    "#     'Predicted Label': y_pred_best_svc,\n",
    "# })\n",
    "\n",
    "# # Filter where the true label is class 0 (happy)\n",
    "# class_0_results = results_df[results_df['True Label'] == 0]\n",
    "\n",
    "# # Check where the predictions are wrong (i.e., true label is 0 but prediction is not 0)\n",
    "# misclassified_class_0 = class_0_results[class_0_results['Predicted Label'] != 0]\n",
    "\n",
    "# # Print the misclassified examples\n",
    "# print(misclassified_class_0)\n",
    "\n",
    "# # Check the distribution of labels in the training set\n",
    "# label_distribution = misclassified_class_0.value_counts()\n",
    "\n",
    "# # Print the distribution of labels\n",
    "# print(label_distribution)\n",
    "# #OUTPUT\n",
    "# # True Label  Predicted Label\n",
    "# # 0           1                  287\n",
    "# #             2                   15\n",
    "# #             3                    9\n",
    "# # dtype: int64\n"
   ]
  },
  {
   "cell_type": "code",
   "execution_count": 11,
   "id": "465c39a0",
   "metadata": {},
   "outputs": [
    {
     "name": "stdout",
     "output_type": "stream",
     "text": [
      "Bigram Classification Report:\n",
      "              precision    recall  f1-score   support\n",
      "\n",
      "           0       0.52      0.54      0.53       770\n",
      "           1       0.54      0.44      0.49       819\n",
      "           2       0.80      0.90      0.85       671\n",
      "           3       0.91      0.94      0.92       687\n",
      "\n",
      "    accuracy                           0.69      2947\n",
      "   macro avg       0.69      0.71      0.70      2947\n",
      "weighted avg       0.68      0.69      0.68      2947\n",
      "\n"
     ]
    }
   ],
   "source": [
    "#best_model_cl_0\n",
    "# Split the dataset\n",
    "X_train, X_test, y_train, y_test = train_test_split(data['cleaned_lyrics'], data['mood_cats'], test_size=0.2, random_state=42)\n",
    "\n",
    "# Experiment 2: Bigrams\n",
    "svc_model = SVC(kernel='rbf',C=10, gamma=1)\n",
    "bigram_vectorizer = TfidfVectorizer(ngram_range=(1, 2), max_features=5000)\n",
    "X_train_bigram = bigram_vectorizer.fit_transform(X_train)\n",
    "X_test_bigram = bigram_vectorizer.transform(X_test)\n",
    "\n",
    "svc_model.fit(X_train_bigram, y_train)\n",
    "y_pred_bigram = svc_model.predict(X_test_bigram)\n",
    "print(\"Bigram Classification Report:\")\n",
    "print(classification_report(y_test, y_pred_bigram))"
   ]
  },
  {
   "cell_type": "code",
   "execution_count": 9,
   "id": "ff87cb97",
   "metadata": {},
   "outputs": [
    {
     "name": "stdout",
     "output_type": "stream",
     "text": [
      "Average padding percentage for training set: 72.32%\n",
      "Average padding percentage for test set: 72.53%\n"
     ]
    }
   ],
   "source": [
    "# Split the dataset\n",
    "X_train, X_test, y_train, y_test = train_test_split(data['cleaned_lyrics'], data['mood_cats'], test_size=0.2, random_state=42)\n",
    "\n",
    "# Experiment 2: Bigrams\n",
    "svc_model = SVC(kernel='rbf',C=10, gamma=1)\n",
    "bigram_vectorizer = TfidfVectorizer(ngram_range=(1, 2),max_features=100)\n",
    "X_train_bigram = bigram_vectorizer.fit_transform(X_train)\n",
    "X_test_bigram = bigram_vectorizer.transform(X_test)\n",
    "\n",
    "# Function to calculate the percentage of zero-padded features for each row in a sparse matrix\n",
    "def calculate_zero_padding_percentage_sparse(sparse_matrix):\n",
    "    # Get the number of non-zero elements in each row\n",
    "    non_zero_counts_per_row = sparse_matrix.getnnz(axis=1)\n",
    "    \n",
    "    # Total number of features (columns)\n",
    "    total_features = sparse_matrix.shape[1]\n",
    "    \n",
    "    # Calculate the number of zero elements per row\n",
    "    zero_counts_per_row = total_features - non_zero_counts_per_row\n",
    "    \n",
    "    # Calculate the percentage of zeros per row\n",
    "    padding_percentage = (zero_counts_per_row / total_features) * 100\n",
    "    \n",
    "    return padding_percentage\n",
    "\n",
    "# Apply the function to calculate padding percentage for training and test sets\n",
    "padding_percentage_train = calculate_zero_padding_percentage_sparse(X_train_bigram)\n",
    "padding_percentage_test = calculate_zero_padding_percentage_sparse(X_test_bigram)\n",
    "\n",
    "# Print average padding percentage\n",
    "print(f\"Average padding percentage for training set: {np.mean(padding_percentage_train):.2f}%\")\n",
    "print(f\"Average padding percentage for test set: {np.mean(padding_percentage_test):.2f}%\")"
   ]
  },
  {
   "cell_type": "code",
   "execution_count": null,
   "id": "51c388fd",
   "metadata": {},
   "outputs": [],
   "source": []
  }
 ],
 "metadata": {
  "kernelspec": {
   "display_name": "Python 3 (ipykernel)",
   "language": "python",
   "name": "python3"
  },
  "language_info": {
   "codemirror_mode": {
    "name": "ipython",
    "version": 3
   },
   "file_extension": ".py",
   "mimetype": "text/x-python",
   "name": "python",
   "nbconvert_exporter": "python",
   "pygments_lexer": "ipython3",
   "version": "3.10.4"
  }
 },
 "nbformat": 4,
 "nbformat_minor": 5
}
